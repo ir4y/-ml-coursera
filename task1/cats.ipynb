{
 "cells": [
  {
   "cell_type": "code",
   "execution_count": 1,
   "metadata": {},
   "outputs": [],
   "source": [
    "import re\n",
    "from funcy import *\n",
    "\n",
    "with open(\"cats.txt\") as c:\n",
    "    res = [compact(re.split(r'[^a-z]', line.lower())) for line in c.readlines()]\n",
    "\n",
    "words = list({word for line in res for word in line})"
   ]
  },
  {
   "cell_type": "code",
   "execution_count": 2,
   "metadata": {},
   "outputs": [],
   "source": [
    "matrix = [[len([w for w in line if w == word]) for word in words] for line in res]"
   ]
  },
  {
   "cell_type": "code",
   "execution_count": 3,
   "metadata": {},
   "outputs": [
    {
     "data": {
      "text/plain": [
       "{0.7327387580875756: 6,\n",
       " 0.77708871496985887: 4,\n",
       " 0.82503644694405864: 21,\n",
       " 0.83281653622739416: 10,\n",
       " 0.83964325485254543: 12,\n",
       " 0.84063618542208085: 16,\n",
       " 0.84275727449171223: 20,\n",
       " 0.86447381456421235: 2,\n",
       " 0.87035925528956715: 13,\n",
       " 0.87401184233025764: 14,\n",
       " 0.88047713906656067: 11,\n",
       " 0.88427248752843102: 8,\n",
       " 0.88854435748492944: 19,\n",
       " 0.89517151632780823: 3,\n",
       " 0.90550888174769317: 9,\n",
       " 0.92587506833388988: 7,\n",
       " 0.94023856953328033: 5,\n",
       " 0.94427217874246472: 18,\n",
       " 0.95275444087384664: 1,\n",
       " 0.95664450152379399: 17}"
      ]
     },
     "execution_count": 3,
     "metadata": {},
     "output_type": "execute_result"
    }
   ],
   "source": [
    "import numpy as np\n",
    "from scipy.spatial.distance import cosine\n",
    "initial = np.array(matrix[0])\n",
    "\n",
    "{cosine(initial, np.array(line)): (index + 1) for index, line in enumerate(matrix[1:])}                                                               "
   ]
  },
  {
   "cell_type": "code",
   "execution_count": null,
   "metadata": {},
   "outputs": [],
   "source": []
  }
 ],
 "metadata": {
  "kernelspec": {
   "display_name": "Python 3",
   "language": "python",
   "name": "python3"
  },
  "language_info": {
   "codemirror_mode": {
    "name": "ipython",
    "version": 3
   },
   "file_extension": ".py",
   "mimetype": "text/x-python",
   "name": "python",
   "nbconvert_exporter": "python",
   "pygments_lexer": "ipython3",
   "version": "3.6.2"
  }
 },
 "nbformat": 4,
 "nbformat_minor": 2
}
